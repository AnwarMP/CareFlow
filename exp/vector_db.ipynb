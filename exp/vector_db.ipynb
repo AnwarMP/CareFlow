{
 "cells": [
  {
   "cell_type": "code",
   "execution_count": null,
   "id": "62faa9a7",
   "metadata": {},
   "outputs": [],
   "source": []
  },
  {
   "cell_type": "code",
   "execution_count": 29,
   "id": "3cef021d",
   "metadata": {},
   "outputs": [],
   "source": [
    "from llama_index.core import SimpleDirectoryReader, Settings, StorageContext\n",
    "from llama_index.core import VectorStoreIndex, ServiceContext\n",
    "from llama_index.embeddings.openai import OpenAIEmbedding\n",
    "from llama_index.vector_stores.supabase import SupabaseVectorStore\n",
    "from supabase import create_client\n",
    "import tempfile, shutil, pathlib"
   ]
  },
  {
   "cell_type": "code",
   "execution_count": null,
   "id": "f5525c62",
   "metadata": {},
   "outputs": [],
   "source": []
  },
  {
   "cell_type": "code",
   "execution_count": 15,
   "id": "05e5b3d7",
   "metadata": {},
   "outputs": [
    {
     "data": {
      "text/plain": [
       "'/var/folders/5t/613b1kv54272dgj3mkm5qts00000gn/T/tmp4ba0lx2t/Post-Surgical Care Plan_ Knee Arthroscopy.pdf'"
      ]
     },
     "execution_count": 15,
     "metadata": {},
     "output_type": "execute_result"
    }
   ],
   "source": [
    "# --- temp-copy the user PDF -----------------------------\n",
    "pdf_path = \"/Users/anwarmujeeb/Development/CareFlow/shared/Post-Surgical Care Plan_ Knee Arthroscopy.pdf\"  # already uploaded\n",
    "tmpdir   = tempfile.mkdtemp()\n",
    "shutil.copy(pdf_path, tmpdir)\n"
   ]
  },
  {
   "cell_type": "code",
   "execution_count": 23,
   "id": "f6812ceb",
   "metadata": {},
   "outputs": [],
   "source": [
    "client = create_client(os.getenv(\"SUPABASE_URL\"),\n",
    "                       os.getenv(\"SUPABASE_SERVICE_ROLE_KEY\"))\n",
    "\n",
    "vec_store = SupabaseVectorStore(\n",
    "    postgres_connection_string=postgres_connection_string,  # Required parameter\n",
    "    collection_name=\"care_plans_collection\",               # Required parameter\n",
    "    client=client,                                         # Optional: your existing client\n",
    "    table_name=\"care_plans\"                                # Optional: your table name\n",
    ")"
   ]
  },
  {
   "cell_type": "code",
   "execution_count": 30,
   "id": "7680d358",
   "metadata": {},
   "outputs": [
    {
     "name": "stdout",
     "output_type": "stream",
     "text": [
      "Inserted 6 chunks into Supabase!\n"
     ]
    }
   ],
   "source": [
    "# --- Configure storage context ---\n",
    "storage_context = StorageContext.from_defaults(vector_store=vec_store)\n",
    "\n",
    "# --- parse the PDF & build the index --------------------\n",
    "docs = SimpleDirectoryReader(tmpdir).load_data()   # LlamaIndex auto-splits\n",
    "index = VectorStoreIndex.from_documents(\n",
    "    docs,\n",
    "    storage_context=storage_context,\n",
    "    # No need to pass service_context as we've set the Settings globally\n",
    ")\n",
    "shutil.rmtree(tmpdir)          # clean-up\n",
    "print(f\"Inserted {len(docs)} chunks into Supabase!\")"
   ]
  },
  {
   "cell_type": "code",
   "execution_count": 31,
   "id": "cf4fa8eb",
   "metadata": {},
   "outputs": [
    {
     "name": "stderr",
     "output_type": "stream",
     "text": [
      "/opt/homebrew/Caskroom/miniforge/base/envs/temp/lib/python3.12/site-packages/vecs/collection.py:506: UserWarning: Query does not have a covering index for IndexMeasure.cosine_distance. See Collection.create_index\n",
      "  warnings.warn(\n"
     ]
    },
    {
     "name": "stdout",
     "output_type": "stream",
     "text": [
      "Response:\n",
      "No weight-bearing on the surgical leg, keeping the surgical dressing clean and dry, and avoiding showering are activities that should be avoided after knee arthroscopy.\n",
      "\n",
      "Response about pain management:\n",
      "Manage pain after knee arthroscopy surgery by taking Tylenol as needed, not exceeding 3000mg in 24 hours. Additionally, Ibuprofen can be taken with food as needed for pain and swelling. It is important to follow the prescribed medication schedule and dosage instructions provided by the healthcare provider.\n",
      "\n",
      "Response about rehabilitation exercises:\n",
      "Quad sets, straight leg raises, seated knee flexion, hamstring stretches, standing weight shifts, gentle mini-squats, and walking without crutches for short distances inside the home are recommended exercises during rehabilitation.\n",
      "\n",
      "Response about complications:\n",
      "Fever over 101°F, excessive pain not controlled by prescribed medications, calf pain, swelling, or tenderness, excessive drainage or bleeding from incision sites, increased redness or warmth around the incision, shortness of breath or chest pain are warning signs to watch out for after surgery.\n"
     ]
    }
   ],
   "source": [
    "# --- Test the index with a query engine ---\n",
    "query_engine = index.as_query_engine()\n",
    "\n",
    "# Ask a question about knee arthroscopy recovery\n",
    "response = query_engine.query(\"What activities should I avoid after knee arthroscopy?\")\n",
    "print(\"Response:\")\n",
    "print(response.response)\n",
    "\n",
    "# Ask about pain management\n",
    "response = query_engine.query(\"How should I manage pain after knee arthroscopy surgery?\")\n",
    "print(\"\\nResponse about pain management:\")\n",
    "print(response.response)\n",
    "\n",
    "# Ask about post-surgical rehabilitation exercises\n",
    "response = query_engine.query(\"What exercises are recommended during rehabilitation?\")\n",
    "print(\"\\nResponse about rehabilitation exercises:\")\n",
    "print(response.response)\n",
    "\n",
    "# Ask about potential complications\n",
    "response = query_engine.query(\"What complications should I watch out for after surgery?\")\n",
    "print(\"\\nResponse about complications:\")\n",
    "print(response.response)"
   ]
  }
 ],
 "metadata": {
  "kernelspec": {
   "display_name": "temp",
   "language": "python",
   "name": "python3"
  },
  "language_info": {
   "codemirror_mode": {
    "name": "ipython",
    "version": 3
   },
   "file_extension": ".py",
   "mimetype": "text/x-python",
   "name": "python",
   "nbconvert_exporter": "python",
   "pygments_lexer": "ipython3",
   "version": "3.12.9"
  }
 },
 "nbformat": 4,
 "nbformat_minor": 5
}
